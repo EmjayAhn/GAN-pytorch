{
 "cells": [
  {
   "cell_type": "markdown",
   "metadata": {},
   "source": [
    "# GAN 실험해보기\n",
    "- Pytorch로 GAN 구조를 짜보고, MNIST digit으로 학습하여, gan 의 generator 가 제대로 동작하는지 확인해보겠습니다."
   ]
  },
  {
   "cell_type": "markdown",
   "metadata": {},
   "source": [
    "### 1. Imports"
   ]
  },
  {
   "cell_type": "code",
   "execution_count": 5,
   "metadata": {},
   "outputs": [
    {
     "name": "stdout",
     "output_type": "stream",
     "text": [
      "device:  cpu\n"
     ]
    }
   ],
   "source": [
    "import torch\n",
    "import torch.nn as nn\n",
    "import torch.optim as optim\n",
    "import torch.nn.functional as F\n",
    "\n",
    "from torchvision import datasets\n",
    "from torchvision import transforms\n",
    "from torch.utils.data import DataLoader\n",
    "\n",
    "from generator import Generator\n",
    "from discriminator import Discriminator\n",
    "from train import train_model\n",
    "\n",
    "import matplotlib.pyplot as plt\n",
    "\n",
    "# device setting for gpu users\n",
    "device = torch.device(\"cuda\" if torch.cuda.is_available() else \"cpu\")\n",
    "print(\"device: \", device)"
   ]
  },
  {
   "cell_type": "markdown",
   "metadata": {},
   "source": [
    "### 2. Data Preparation\n",
    "MNIST digit data 를 활용하겠습니다."
   ]
  },
  {
   "cell_type": "code",
   "execution_count": 11,
   "metadata": {},
   "outputs": [],
   "source": [
    "epochs = 2000\n",
    "batch_size = 128\n",
    "z_dim = 100\n",
    "\n",
    "transform = transforms.Compose([transforms.ToTensor(),\n",
    "                               transforms.Normalize(\n",
    "                                   mean=(0.5, 0.5, 0.5),\n",
    "                                   std=(0.5, 0.5, 0.5))])\n",
    "\n",
    "mnist_dataset = datasets.MNIST(root='./data/', train=True, transform=transform, download=True)\n",
    "\n",
    "dataloader = DataLoader(mnist_dataset, batch_size=batch_size, shuffle=True)"
   ]
  },
  {
   "cell_type": "markdown",
   "metadata": {},
   "source": [
    "### 3. Modeling\n",
    "깔끔한 노트북을 위해, `discriminator.py` 와 `generator.py` 에 각 Discriminator 와 Generator를 정의해 두었습니다. 이 노트북에서는 초기화 선언만 하겠습니다."
   ]
  },
  {
   "cell_type": "code",
   "execution_count": 9,
   "metadata": {},
   "outputs": [
    {
     "name": "stdout",
     "output_type": "stream",
     "text": [
      "GENERATOR :  Generator(\n",
      "  (fc1): Linear(in_features=100, out_features=128, bias=True)\n",
      "  (fc2): Linear(in_features=128, out_features=256, bias=True)\n",
      "  (fc3): Linear(in_features=256, out_features=256, bias=True)\n",
      "  (fc4): Linear(in_features=256, out_features=784, bias=True)\n",
      ")\n",
      "DISCRIMINATOR :  Discriminator(\n",
      "  (fc1): Linear(in_features=784, out_features=256, bias=True)\n",
      "  (fc2): Linear(in_features=256, out_features=128, bias=True)\n",
      "  (fc3): Linear(in_features=128, out_features=1, bias=True)\n",
      ")\n"
     ]
    }
   ],
   "source": [
    "generator = Generator(latent_dims=z_dim)\n",
    "discriminator = Discriminator()\n",
    "print(\"GENERATOR : \", generator)\n",
    "print(\"DISCRIMINATOR : \", discriminator)"
   ]
  },
  {
   "cell_type": "markdown",
   "metadata": {},
   "source": [
    "### 4. Train\n",
    "#### 4-1. Loss & Optimizer\n",
    "- GAN 의 구조에서부터 알 수 있듯이, 지금 네트워크는 discriminator 가 generator 로 부터 받은 생성된 사진과 실제 사진이 각각 진짜인지, 가짜인지 맞추는 loss 로 부터 역전파 되어 각 구조가 학습하게 됩니다. 따라서 discriminator 의 마지막 layer의 크기와 Bincary Cross Entropy Loss 가 구조로부터 정해지게 됩니다.\n",
    "- Optimizer 의 경우, 우리는 discriminator 와 generator 가 순차적으로 학습하는 구조를 가질 수 밖에 없습니다. 따라서, 각 구조를 update 시켜주기위한 optimizer 는 따로 선언해 줍니다."
   ]
  },
  {
   "cell_type": "code",
   "execution_count": 10,
   "metadata": {},
   "outputs": [],
   "source": [
    "# Loss & Optimizer\n",
    "criterion = nn.BCELoss()\n",
    "generator_optim = optim.Adam(generator.parameters(), lr=0.001, weight_decay=8e-9)\n",
    "discriminator_optim = optim.Adam(discriminator.parameters(), lr=0.001, weight_decay=8e-9)"
   ]
  },
  {
   "cell_type": "markdown",
   "metadata": {},
   "source": [
    "#### 4-2. Train Model\n",
    "- discriminator 의 학습을 위해 train 단계에서, 진짜(1)와 가짜(0) 이미지의 label을 붙여줍니다."
   ]
  },
  {
   "cell_type": "code",
   "execution_count": null,
   "metadata": {},
   "outputs": [],
   "source": [
    "train_model(discriminator, generator, discriminator_optim, generator_optim, criterion, dataloader, epochs, device)"
   ]
  },
  {
   "cell_type": "code",
   "execution_count": null,
   "metadata": {},
   "outputs": [],
   "source": [
    "# z_dim = 64\n",
    "# EPOCHS = 50\n",
    "# for epoch in range(EPOCHS):\n",
    "#     for batch_images, _ in dataloader:\n",
    "#         images = batch_images.view(batch_size, -1)\n",
    "        \n",
    "#         real_images_labels = torch.ones(batch_size, 1)\n",
    "#         fake_images_labels = torch.zeros(batch_size, 1)\n",
    "        \n",
    "#         # Discriminator 학습\n",
    "#         # Using Real Images\n",
    "#         outputs = discriminator(images)\n",
    "#         discrim_loss_real = criterion(outputs, real_images_labels)\n",
    "        \n",
    "#         # Fake Images\n",
    "#         latent_z = torch.randn(batch_size, z_dim)\n",
    "#         fake_images = generator(z).detach()\n",
    "#         outputs = discriminator(fake_images)\n",
    "#         discrim_loss_fake = criterion(outputs, fake_images_labels)\n",
    "        \n",
    "#         discrim_loss = discrim_loss_real + discrim_loss_fake\n",
    "#         discriminator_optim.zero_grad()\n",
    "#         discrim_loss.backward()\n",
    "#         discriminator_optim.step()\n",
    "        \n",
    "#         # Generator 학습\n",
    "#         latent_z = torch.randn(batch_size, z_dim)\n",
    "#         fake_images = generator(z)\n",
    "#         outputs = discriminator(fake_images)\n",
    "        \n",
    "#         gener_loss = criterion(outputs, real_images_labels)\n",
    "        \n",
    "#         generator_optim.zero_grad()\n",
    "#         gener_loss.backward()\n",
    "#         gener_optimizer.step()\n",
    "        \n",
    "#     print('EPOCH {}: discrim_loss: {}, generator_loss: {}'.format(epoch, discrim_loss,\n",
    "#                                                                  gener_loss))"
   ]
  }
 ],
 "metadata": {
  "kernelspec": {
   "display_name": "Python 3",
   "language": "python",
   "name": "python3"
  },
  "language_info": {
   "codemirror_mode": {
    "name": "ipython",
    "version": 3
   },
   "file_extension": ".py",
   "mimetype": "text/x-python",
   "name": "python",
   "nbconvert_exporter": "python",
   "pygments_lexer": "ipython3",
   "version": "3.6.0"
  }
 },
 "nbformat": 4,
 "nbformat_minor": 2
}
